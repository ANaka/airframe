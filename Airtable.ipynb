{
 "cells": [
  {
   "cell_type": "code",
   "execution_count": 1,
   "metadata": {},
   "outputs": [
    {
     "name": "stdout",
     "output_type": "stream",
     "text": [
      "<airtable.airtable.Airtable object at 0x03708F70>\n"
     ]
    }
   ],
   "source": [
    "from pprint import pprint\n",
    "from airtable import Airtable\n",
    "BASE_KEY = 'appJMY16gZDQrMWpA'\n",
    "TABLE_A = 'TABLE READ'\n",
    "airtable = Airtable(BASE_KEY, TABLE_A)\n",
    "print(airtable)\n",
    "%load_ext autoreload\n",
    "%autoreload"
   ]
  },
  {
   "cell_type": "markdown",
   "metadata": {},
   "source": [
    "### Get"
   ]
  },
  {
   "cell_type": "code",
   "execution_count": 2,
   "metadata": {},
   "outputs": [
    {
     "name": "stdout",
     "output_type": "stream",
     "text": [
      "[{'createdTime': '2017-08-05T23:13:06.000Z',\n",
      "  'fields': {'COLUMN_ID': '211'},\n",
      "  'id': 'rec0HLFTLAXuJ6suq'},\n",
      " {'createdTime': '2017-08-05T23:13:11.000Z',\n",
      "  'fields': {'COLUMN_ID': '252'},\n",
      "  'id': 'rec0UUQM7OUfLFTVL'}]\n"
     ]
    }
   ],
   "source": [
    "%autoreload\n",
    "records = airtable.get(maxRecords=2)\n",
    "for record in records:\n",
    "    pprint(record)"
   ]
  },
  {
   "cell_type": "code",
   "execution_count": 3,
   "metadata": {},
   "outputs": [
    {
     "name": "stdout",
     "output_type": "stream",
     "text": [
      "[{'createdTime': '2017-08-05T23:12:32.000Z',\n",
      "  'fields': {'COLUMN_ID': '5'},\n",
      "  'id': 'rec6YVuYv27rlzARi'}]\n"
     ]
    }
   ],
   "source": [
    "record = airtable.search('COLUMN_ID', '5')\n",
    "pprint(record)"
   ]
  },
  {
   "cell_type": "code",
   "execution_count": 4,
   "metadata": {},
   "outputs": [
    {
     "name": "stdout",
     "output_type": "stream",
     "text": [
      "3\n"
     ]
    }
   ],
   "source": [
    "#MaxRecords\n",
    "airtable = Airtable(BASE_KEY, TABLE_A)\n",
    "records = airtable.get_all(maxRecords=3)\n",
    "print(len(records))"
   ]
  },
  {
   "cell_type": "code",
   "execution_count": 5,
   "metadata": {},
   "outputs": [
    {
     "data": {
      "text/plain": [
       "[{'createdTime': '2017-08-05T23:12:32.000Z',\n",
       "  'fields': {'COLUMN_ID': '6'},\n",
       "  'id': 'recCKTZCY279EpzRu'}]"
      ]
     },
     "execution_count": 5,
     "metadata": {},
     "output_type": "execute_result"
    }
   ],
   "source": [
    "#FilterByFormula\n",
    "records = airtable.get_all(filterByFormula=\"NOT(COLUMN_ID='5')\")\n",
    "[r for r in records if r['fields']['COLUMN_ID'] == '5']\n",
    "[r for r in records if r['fields']['COLUMN_ID'] == '6']"
   ]
  },
  {
   "cell_type": "code",
   "execution_count": 6,
   "metadata": {},
   "outputs": [
    {
     "name": "stdout",
     "output_type": "stream",
     "text": [
      "[{'id': 'rec0HLFTLAXuJ6suq', 'fields': {}, 'createdTime': '2017-08-05T23:13:06.000Z'}, {'id': 'rec0UUQM7OUfLFTVL', 'fields': {}, 'createdTime': '2017-08-05T23:13:11.000Z'}]\n"
     ]
    }
   ],
   "source": [
    "%autoreload\n",
    "#Fields\n",
    "records = airtable.get_all(fields=['COLUMN_UPDATE', 'COLUMN_STR'], maxRecords=2)\n",
    "print(records)"
   ]
  },
  {
   "cell_type": "code",
   "execution_count": 7,
   "metadata": {},
   "outputs": [
    {
     "name": "stdout",
     "output_type": "stream",
     "text": [
      "[{'id': 'recwPQIfs4wKPyc9D', 'fields': {'COLUMN_STR': 'UNIQUE', 'COLUMN_UPDATE': 'A', 'COLUMN_ID': '1'}, 'createdTime': '2017-03-14T22:04:31.000Z'}, {'id': 'rechOLltN9SpPHq5o', 'fields': {'COLUMN_STR': 'DUPLICATE', 'COLUMN_ID': '2'}, 'createdTime': '2017-03-20T15:21:50.000Z'}, {'id': 'rec5eR7IzKSAOBHCz', 'fields': {'COLUMN_STR': 'DUPLICATE', 'COLUMN_ID': '3'}, 'createdTime': '2017-08-05T21:47:52.000Z'}, {'id': 'reczgig7DLuqvhPE3', 'fields': {'COLUMN_ID': '4'}, 'createdTime': '2017-08-05T23:12:32.000Z'}, {'id': 'rec6YVuYv27rlzARi', 'fields': {'COLUMN_ID': '5'}, 'createdTime': '2017-08-05T23:12:32.000Z'}]\n"
     ]
    }
   ],
   "source": [
    "%autoreload\n",
    "#Fields\n",
    "records = airtable.get_all(maxRecords=5, sort=[{'field': \"COLUMN_ID\", 'direction': \"asc\"}])\n",
    "print(records)"
   ]
  },
  {
   "cell_type": "code",
   "execution_count": 5,
   "metadata": {},
   "outputs": [
    {
     "ename": "ValueError",
     "evalue": "invalid param keyword sort_list",
     "output_type": "error",
     "traceback": [
      "\u001b[1;31m---------------------------------------------------------------------------\u001b[0m",
      "\u001b[1;31mKeyError\u001b[0m                                  Traceback (most recent call last)",
      "\u001b[1;32m~\\Dropbox\\Shared\\dev\\repos\\airtable\\airtable\\params.py\u001b[0m in \u001b[0;36mget\u001b[1;34m(cls, kwarg_name)\u001b[0m\n\u001b[0;32m    132\u001b[0m         \u001b[1;32mtry\u001b[0m\u001b[1;33m:\u001b[0m\u001b[1;33m\u001b[0m\u001b[0m\n\u001b[1;32m--> 133\u001b[1;33m             \u001b[0mparam_class\u001b[0m \u001b[1;33m=\u001b[0m \u001b[0mparam_classes\u001b[0m\u001b[1;33m[\u001b[0m\u001b[0mkwarg_name\u001b[0m\u001b[1;33m]\u001b[0m\u001b[1;33m\u001b[0m\u001b[0m\n\u001b[0m\u001b[0;32m    134\u001b[0m         \u001b[1;32mexcept\u001b[0m \u001b[0mKeyError\u001b[0m\u001b[1;33m:\u001b[0m\u001b[1;33m\u001b[0m\u001b[0m\n",
      "\u001b[1;31mKeyError\u001b[0m: 'sort_list'",
      "\nDuring handling of the above exception, another exception occurred:\n",
      "\u001b[1;31mValueError\u001b[0m                                Traceback (most recent call last)",
      "\u001b[1;32m<ipython-input-5-730043ca50f7>\u001b[0m in \u001b[0;36m<module>\u001b[1;34m()\u001b[0m\n\u001b[0;32m      3\u001b[0m \u001b[1;31m# AirtableParams.get('sort')\u001b[0m\u001b[1;33m\u001b[0m\u001b[1;33m\u001b[0m\u001b[0m\n\u001b[0;32m      4\u001b[0m \u001b[1;31m# airtable.get_all(sort=[{'field':'COLUMN_ID', 'direction': 'desc'}], maxRecords=5)\u001b[0m\u001b[1;33m\u001b[0m\u001b[1;33m\u001b[0m\u001b[0m\n\u001b[1;32m----> 5\u001b[1;33m \u001b[0mairtable\u001b[0m\u001b[1;33m.\u001b[0m\u001b[0mget_all\u001b[0m\u001b[1;33m(\u001b[0m\u001b[0msort_list\u001b[0m\u001b[1;33m=\u001b[0m\u001b[1;33m[\u001b[0m\u001b[1;34m'COLUMN_ID'\u001b[0m\u001b[1;33m]\u001b[0m\u001b[1;33m,\u001b[0m \u001b[0mmaxRecords\u001b[0m\u001b[1;33m=\u001b[0m\u001b[1;36m5\u001b[0m\u001b[1;33m)\u001b[0m\u001b[1;33m\u001b[0m\u001b[0m\n\u001b[0m\u001b[0;32m      6\u001b[0m \u001b[1;33m\u001b[0m\u001b[0m\n",
      "\u001b[1;32m~\\Dropbox\\Shared\\dev\\repos\\airtable\\airtable\\airtable.py\u001b[0m in \u001b[0;36mget_all\u001b[1;34m(self, **options)\u001b[0m\n\u001b[0;32m    153\u001b[0m         \"\"\"\n\u001b[0;32m    154\u001b[0m         \u001b[0mall_records\u001b[0m \u001b[1;33m=\u001b[0m \u001b[1;33m[\u001b[0m\u001b[1;33m]\u001b[0m\u001b[1;33m\u001b[0m\u001b[0m\n\u001b[1;32m--> 155\u001b[1;33m         \u001b[1;32mfor\u001b[0m \u001b[0mrecords\u001b[0m \u001b[1;32min\u001b[0m \u001b[0mself\u001b[0m\u001b[1;33m.\u001b[0m\u001b[0mget\u001b[0m\u001b[1;33m(\u001b[0m\u001b[1;33m**\u001b[0m\u001b[0moptions\u001b[0m\u001b[1;33m)\u001b[0m\u001b[1;33m:\u001b[0m\u001b[1;33m\u001b[0m\u001b[0m\n\u001b[0m\u001b[0;32m    156\u001b[0m             \u001b[0mall_records\u001b[0m\u001b[1;33m.\u001b[0m\u001b[0mextend\u001b[0m\u001b[1;33m(\u001b[0m\u001b[0mrecords\u001b[0m\u001b[1;33m)\u001b[0m\u001b[1;33m\u001b[0m\u001b[0m\n\u001b[0;32m    157\u001b[0m         \u001b[1;32mreturn\u001b[0m \u001b[0mall_records\u001b[0m\u001b[1;33m\u001b[0m\u001b[0m\n",
      "\u001b[1;32m~\\Dropbox\\Shared\\dev\\repos\\airtable\\airtable\\airtable.py\u001b[0m in \u001b[0;36mget\u001b[1;34m(self, **options)\u001b[0m\n\u001b[0;32m    122\u001b[0m         \u001b[0moffset\u001b[0m \u001b[1;33m=\u001b[0m \u001b[1;32mNone\u001b[0m\u001b[1;33m\u001b[0m\u001b[0m\n\u001b[0;32m    123\u001b[0m         \u001b[1;32mwhile\u001b[0m \u001b[1;32mTrue\u001b[0m\u001b[1;33m:\u001b[0m\u001b[1;33m\u001b[0m\u001b[0m\n\u001b[1;32m--> 124\u001b[1;33m             \u001b[0mdata\u001b[0m \u001b[1;33m=\u001b[0m \u001b[0mself\u001b[0m\u001b[1;33m.\u001b[0m\u001b[0m_get\u001b[0m\u001b[1;33m(\u001b[0m\u001b[0mself\u001b[0m\u001b[1;33m.\u001b[0m\u001b[0murl_table\u001b[0m\u001b[1;33m,\u001b[0m \u001b[0moffset\u001b[0m\u001b[1;33m=\u001b[0m\u001b[0moffset\u001b[0m\u001b[1;33m,\u001b[0m \u001b[1;33m**\u001b[0m\u001b[0moptions\u001b[0m\u001b[1;33m)\u001b[0m\u001b[1;33m\u001b[0m\u001b[0m\n\u001b[0m\u001b[0;32m    125\u001b[0m             \u001b[0mrecords\u001b[0m \u001b[1;33m=\u001b[0m \u001b[0mdata\u001b[0m\u001b[1;33m.\u001b[0m\u001b[0mget\u001b[0m\u001b[1;33m(\u001b[0m\u001b[1;34m'records'\u001b[0m\u001b[1;33m,\u001b[0m \u001b[1;33m[\u001b[0m\u001b[1;33m]\u001b[0m\u001b[1;33m)\u001b[0m\u001b[1;33m\u001b[0m\u001b[0m\n\u001b[0;32m    126\u001b[0m             \u001b[1;32myield\u001b[0m \u001b[0mrecords\u001b[0m\u001b[1;33m\u001b[0m\u001b[0m\n",
      "\u001b[1;32m~\\Dropbox\\Shared\\dev\\repos\\airtable\\airtable\\airtable.py\u001b[0m in \u001b[0;36m_get\u001b[1;34m(self, url, **params)\u001b[0m\n\u001b[0;32m     74\u001b[0m \u001b[1;33m\u001b[0m\u001b[0m\n\u001b[0;32m     75\u001b[0m     \u001b[1;32mdef\u001b[0m \u001b[0m_get\u001b[0m\u001b[1;33m(\u001b[0m\u001b[0mself\u001b[0m\u001b[1;33m,\u001b[0m \u001b[0murl\u001b[0m\u001b[1;33m,\u001b[0m \u001b[1;33m**\u001b[0m\u001b[0mparams\u001b[0m\u001b[1;33m)\u001b[0m\u001b[1;33m:\u001b[0m\u001b[1;33m\u001b[0m\u001b[0m\n\u001b[1;32m---> 76\u001b[1;33m         \u001b[0mprocessed_params\u001b[0m \u001b[1;33m=\u001b[0m \u001b[0mself\u001b[0m\u001b[1;33m.\u001b[0m\u001b[0m_process_params\u001b[0m\u001b[1;33m(\u001b[0m\u001b[0mparams\u001b[0m\u001b[1;33m)\u001b[0m\u001b[1;33m\u001b[0m\u001b[0m\n\u001b[0m\u001b[0;32m     77\u001b[0m         \u001b[1;32mreturn\u001b[0m \u001b[0mself\u001b[0m\u001b[1;33m.\u001b[0m\u001b[0m_request\u001b[0m\u001b[1;33m(\u001b[0m\u001b[1;34m'get'\u001b[0m\u001b[1;33m,\u001b[0m \u001b[0murl\u001b[0m\u001b[1;33m,\u001b[0m \u001b[0mparams\u001b[0m\u001b[1;33m=\u001b[0m\u001b[0mprocessed_params\u001b[0m\u001b[1;33m)\u001b[0m\u001b[1;33m\u001b[0m\u001b[0m\n\u001b[0;32m     78\u001b[0m \u001b[1;33m\u001b[0m\u001b[0m\n",
      "\u001b[1;32m~\\Dropbox\\Shared\\dev\\repos\\airtable\\airtable\\airtable.py\u001b[0m in \u001b[0;36m_process_params\u001b[1;34m(self, params)\u001b[0m\n\u001b[0;32m     56\u001b[0m         \u001b[1;32mfor\u001b[0m \u001b[0mparam_name\u001b[0m\u001b[1;33m,\u001b[0m \u001b[0mparam_value\u001b[0m \u001b[1;32min\u001b[0m \u001b[0mparams\u001b[0m\u001b[1;33m.\u001b[0m\u001b[0mcopy\u001b[0m\u001b[1;33m(\u001b[0m\u001b[1;33m)\u001b[0m\u001b[1;33m.\u001b[0m\u001b[0mitems\u001b[0m\u001b[1;33m(\u001b[0m\u001b[1;33m)\u001b[0m\u001b[1;33m:\u001b[0m\u001b[1;33m\u001b[0m\u001b[0m\n\u001b[0;32m     57\u001b[0m             \u001b[0mparam_value\u001b[0m \u001b[1;33m=\u001b[0m \u001b[0mparams\u001b[0m\u001b[1;33m.\u001b[0m\u001b[0mpop\u001b[0m\u001b[1;33m(\u001b[0m\u001b[0mparam_name\u001b[0m\u001b[1;33m)\u001b[0m\u001b[1;33m\u001b[0m\u001b[0m\n\u001b[1;32m---> 58\u001b[1;33m             \u001b[0mParamClass\u001b[0m \u001b[1;33m=\u001b[0m \u001b[0mAirtableParams\u001b[0m\u001b[1;33m.\u001b[0m\u001b[0mget\u001b[0m\u001b[1;33m(\u001b[0m\u001b[0mparam_name\u001b[0m\u001b[1;33m)\u001b[0m\u001b[1;33m\u001b[0m\u001b[0m\n\u001b[0m\u001b[0;32m     59\u001b[0m             \u001b[0mnew_param\u001b[0m \u001b[1;33m=\u001b[0m \u001b[0mParamClass\u001b[0m\u001b[1;33m(\u001b[0m\u001b[0mparam_value\u001b[0m\u001b[1;33m)\u001b[0m\u001b[1;33m.\u001b[0m\u001b[0mto_param_dict\u001b[0m\u001b[1;33m(\u001b[0m\u001b[1;33m)\u001b[0m\u001b[1;33m\u001b[0m\u001b[0m\n\u001b[0;32m     60\u001b[0m             \u001b[0mparams\u001b[0m\u001b[1;33m.\u001b[0m\u001b[0mupdate\u001b[0m\u001b[1;33m(\u001b[0m\u001b[0mnew_param\u001b[0m\u001b[1;33m)\u001b[0m\u001b[1;33m\u001b[0m\u001b[0m\n",
      "\u001b[1;32m~\\Dropbox\\Shared\\dev\\repos\\airtable\\airtable\\params.py\u001b[0m in \u001b[0;36mget\u001b[1;34m(cls, kwarg_name)\u001b[0m\n\u001b[0;32m    133\u001b[0m             \u001b[0mparam_class\u001b[0m \u001b[1;33m=\u001b[0m \u001b[0mparam_classes\u001b[0m\u001b[1;33m[\u001b[0m\u001b[0mkwarg_name\u001b[0m\u001b[1;33m]\u001b[0m\u001b[1;33m\u001b[0m\u001b[0m\n\u001b[0;32m    134\u001b[0m         \u001b[1;32mexcept\u001b[0m \u001b[0mKeyError\u001b[0m\u001b[1;33m:\u001b[0m\u001b[1;33m\u001b[0m\u001b[0m\n\u001b[1;32m--> 135\u001b[1;33m             \u001b[1;32mraise\u001b[0m \u001b[0mValueError\u001b[0m\u001b[1;33m(\u001b[0m\u001b[1;34m'invalid param keyword {}'\u001b[0m\u001b[1;33m.\u001b[0m\u001b[0mformat\u001b[0m\u001b[1;33m(\u001b[0m\u001b[0mkwarg_name\u001b[0m\u001b[1;33m)\u001b[0m\u001b[1;33m)\u001b[0m\u001b[1;33m\u001b[0m\u001b[0m\n\u001b[0m\u001b[0;32m    136\u001b[0m         \u001b[1;32melse\u001b[0m\u001b[1;33m:\u001b[0m\u001b[1;33m\u001b[0m\u001b[0m\n\u001b[0;32m    137\u001b[0m             \u001b[1;32mreturn\u001b[0m \u001b[0mparam_class\u001b[0m\u001b[1;33m\u001b[0m\u001b[0m\n",
      "\u001b[1;31mValueError\u001b[0m: invalid param keyword sort_list"
     ]
    }
   ],
   "source": [
    "%autoreload\n",
    "from airtable.params import AirtableParams\n",
    "# AirtableParams.get('sort')\n",
    "# airtable.get_all(sort=[{'field':'COLUMN_ID', 'direction': 'desc'}], maxRecords=5)\n",
    "airtable.get_all(sort=['COLUMN_ID'], maxRecords=5)\n",
    "\n"
   ]
  },
  {
   "cell_type": "code",
   "execution_count": null,
   "metadata": {},
   "outputs": [],
   "source": []
  }
 ],
 "metadata": {
  "kernelspec": {
   "display_name": "Python 3",
   "language": "python",
   "name": "python3"
  },
  "language_info": {
   "codemirror_mode": {
    "name": "ipython",
    "version": 3
   },
   "file_extension": ".py",
   "mimetype": "text/x-python",
   "name": "python",
   "nbconvert_exporter": "python",
   "pygments_lexer": "ipython3",
   "version": "3.5.3"
  }
 },
 "nbformat": 4,
 "nbformat_minor": 2
}
