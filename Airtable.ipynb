{
 "cells": [
  {
   "cell_type": "markdown",
   "metadata": {},
   "source": [
    "# Airtable Python Wrapper"
   ]
  },
  {
   "cell_type": "code",
   "execution_count": 17,
   "metadata": {},
   "outputs": [
    {
     "name": "stdout",
     "output_type": "stream",
     "text": [
      "The autoreload extension is already loaded. To reload it, use:\n",
      "  %reload_ext autoreload\n",
      "<Airtable table:TABLE READ>\n"
     ]
    }
   ],
   "source": [
    "%load_ext autoreload\n",
    "%autoreload\n",
    "\n",
    "from pprint import pprint\n",
    "from airtable import Airtable\n",
    "\n",
    "base_key = 'appJMY16gZDQrMWpA'\n",
    "table_name = 'TABLE READ'\n",
    "airtable = Airtable(base_key, table_name)\n",
    "print(airtable)"
   ]
  },
  {
   "cell_type": "code",
   "execution_count": 18,
   "metadata": {},
   "outputs": [
    {
     "name": "stdout",
     "output_type": "stream",
     "text": [
      "{'createdTime': '2017-08-05T23:13:06.000Z',\n",
      " 'fields': {'COLUMN_ID': '211'},\n",
      " 'id': 'rec0HLFTLAXuJ6suq'}\n",
      "{'createdTime': '2017-08-05T23:13:11.000Z',\n",
      " 'fields': {'COLUMN_ID': '252'},\n",
      " 'id': 'rec0UUQM7OUfLFTVL'}\n"
     ]
    }
   ],
   "source": [
    "# Get Iter with Max Records\n",
    "pages = airtable.get_iter(maxRecords=2)\n",
    "\n",
    "for page in pages:\n",
    "    for record in page:\n",
    "        pprint(record)"
   ]
  },
  {
   "cell_type": "code",
   "execution_count": 19,
   "metadata": {},
   "outputs": [
    {
     "name": "stdout",
     "output_type": "stream",
     "text": [
      "{'createdTime': '2017-08-05T23:13:06.000Z',\n",
      " 'fields': {'COLUMN_ID': '211'},\n",
      " 'id': 'rec0HLFTLAXuJ6suq'}\n",
      "{'createdTime': '2017-08-05T23:13:11.000Z',\n",
      " 'fields': {'COLUMN_ID': '252'},\n",
      " 'id': 'rec0UUQM7OUfLFTVL'}\n"
     ]
    }
   ],
   "source": [
    "# Get All with Max Records\n",
    "records = airtable.get_all(maxRecords=2)\n",
    "\n",
    "for record in records:\n",
    "    pprint(record)"
   ]
  },
  {
   "cell_type": "code",
   "execution_count": 20,
   "metadata": {},
   "outputs": [
    {
     "name": "stdout",
     "output_type": "stream",
     "text": [
      "[{'createdTime': '2017-03-14T22:04:31.000Z',\n",
      "  'fields': {'COLUMN_ID': '1', 'COLUMN_STR': 'UNIQUE', 'COLUMN_UPDATE': 'A'},\n",
      "  'id': 'recwPQIfs4wKPyc9D'}]\n"
     ]
    }
   ],
   "source": [
    "# Get All on a View - View has only One Record\n",
    "records = airtable.get_all(view='ViewOne')\n",
    "pprint(records)"
   ]
  },
  {
   "cell_type": "code",
   "execution_count": 30,
   "metadata": {},
   "outputs": [
    {
     "name": "stdout",
     "output_type": "stream",
     "text": [
      "{'createdTime': '2017-03-14T22:04:31.000Z',\n",
      " 'fields': {'COLUMN_STR': 'UNIQUE'},\n",
      " 'id': 'recwPQIfs4wKPyc9D'}\n",
      "{'createdTime': '2017-03-20T15:21:50.000Z',\n",
      " 'fields': {'COLUMN_STR': 'DUPLICATE'},\n",
      " 'id': 'rechOLltN9SpPHq5o'}\n"
     ]
    }
   ],
   "source": [
    "# Get All with Max Records, Fields\n",
    "records = airtable.get_all(view='ViewAll', fields='COLUMN_STR')\n",
    "\n",
    "for record in records[0:2]:\n",
    "    pprint(record)"
   ]
  },
  {
   "cell_type": "code",
   "execution_count": 38,
   "metadata": {},
   "outputs": [
    {
     "name": "stdout",
     "output_type": "stream",
     "text": [
      "{'createdTime': '2017-08-05T23:12:32.000Z',\n",
      " 'fields': {'COLUMN_ID': '5'},\n",
      " 'id': 'rec6YVuYv27rlzARi'}\n",
      "{'createdTime': '2017-08-05T23:12:32.000Z',\n",
      " 'fields': {'COLUMN_ID': '6'},\n",
      " 'id': 'recCKTZCY279EpzRu'}\n",
      "{'createdTime': '2017-08-05T23:12:32.000Z',\n",
      " 'fields': {'COLUMN_ID': '4', 'COLUMN_UPDATE': 'A'},\n",
      " 'id': 'reczgig7DLuqvhPE3'}\n"
     ]
    }
   ],
   "source": [
    "# Get All with Formula\n",
    "records = airtable.get_all(formula=\"AND({COLUMN_ID}<=6, {COLUMN_ID}>3)\")\n",
    "\n",
    "for record in records:\n",
    "    pprint(record)"
   ]
  },
  {
   "cell_type": "code",
   "execution_count": 40,
   "metadata": {},
   "outputs": [
    {
     "name": "stdout",
     "output_type": "stream",
     "text": [
      "[{'createdTime': '2017-08-05T21:47:52.000Z',\n",
      "  'fields': {'COLUMN_ID': '3', 'COLUMN_STR': 'DUPLICATE'},\n",
      "  'id': 'rec5eR7IzKSAOBHCz'}]\n"
     ]
    }
   ],
   "source": [
    "records = airtable.search('COLUMN_ID', '3')\n",
    "pprint(records)"
   ]
  },
  {
   "cell_type": "code",
   "execution_count": 43,
   "metadata": {},
   "outputs": [
    {
     "name": "stdout",
     "output_type": "stream",
     "text": [
      "[{'createdTime': '2017-08-05T23:16:51.000Z',\n",
      "  'fields': {'COLUMN_ID': '300'},\n",
      "  'id': 'reccuCLnavaYaPUba'},\n",
      " {'createdTime': '2017-08-05T23:13:20.000Z',\n",
      "  'fields': {'COLUMN_ID': '299'},\n",
      "  'id': 'recY8aca5PAkWjWzA'}]\n"
     ]
    }
   ],
   "source": [
    "# Sort Implicit\n",
    "records = airtable.get_all(maxRecords=2, sort=[\"-COLUMN_ID\"])\n",
    "pprint(records)"
   ]
  },
  {
   "cell_type": "code",
   "execution_count": 44,
   "metadata": {},
   "outputs": [
    {
     "name": "stdout",
     "output_type": "stream",
     "text": [
      "[{'createdTime': '2017-08-05T23:16:51.000Z',\n",
      "  'fields': {'COLUMN_ID': '300'},\n",
      "  'id': 'reccuCLnavaYaPUba'},\n",
      " {'createdTime': '2017-08-05T23:13:20.000Z',\n",
      "  'fields': {'COLUMN_ID': '299'},\n",
      "  'id': 'recY8aca5PAkWjWzA'}]\n"
     ]
    }
   ],
   "source": [
    "# Sort Explicit\n",
    "records = airtable.get_all(maxRecords=2, sort=[(\"COLUMN_ID\", 'desc')])\n",
    "pprint(records)"
   ]
  },
  {
   "cell_type": "code",
   "execution_count": 50,
   "metadata": {},
   "outputs": [
    {
     "name": "stdout",
     "output_type": "stream",
     "text": [
      "{'id': 'reczgig7DLuqvhPE3', 'fields': {'COLUMN_ID': '4', 'COLUMN_UPDATE': 'A'}, 'createdTime': '2017-08-05T23:12:32.000Z'}\n"
     ]
    }
   ],
   "source": [
    "# Replace - If Field is not included, it will be set to null\n",
    "records = airtable.replace_by_field(\"COLUMN_ID\", '4', {'COLUMN_ID': '4', 'COLUMN_UPDATE':'A'})\n",
    "print(records)"
   ]
  },
  {
   "cell_type": "code",
   "execution_count": 53,
   "metadata": {},
   "outputs": [
    {
     "name": "stdout",
     "output_type": "stream",
     "text": [
      "{'id': 'reczgig7DLuqvhPE3', 'fields': {'COLUMN_ID': '4', 'COLUMN_UPDATE': 'B'}, 'createdTime': '2017-08-05T23:12:32.000Z'}\n"
     ]
    }
   ],
   "source": [
    "# Update - Only included fields are updated. Rest is left as is.\n",
    "records = airtable.update_by_field(\"COLUMN_ID\", '4', {'COLUMN_UPDATE':'B'})\n",
    "print(records)"
   ]
  }
 ],
 "metadata": {
  "kernelspec": {
   "display_name": "Python 3",
   "language": "python",
   "name": "python3"
  },
  "language_info": {
   "codemirror_mode": {
    "name": "ipython",
    "version": 3
   },
   "file_extension": ".py",
   "mimetype": "text/x-python",
   "name": "python",
   "nbconvert_exporter": "python",
   "pygments_lexer": "ipython3",
   "version": "3.5.2"
  }
 },
 "nbformat": 4,
 "nbformat_minor": 2
}
