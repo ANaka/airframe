{
 "cells": [
  {
   "cell_type": "code",
   "execution_count": 1,
   "metadata": {},
   "outputs": [
    {
     "name": "stdout",
     "output_type": "stream",
     "text": [
      "<airtable.airtable.Airtable object at 0x0687CAF0>\n"
     ]
    }
   ],
   "source": [
    "from pprint import pprint\n",
    "from airtable import Airtable\n",
    "BASE_KEY = 'appJMY16gZDQrMWpA'\n",
    "TABLE_A = 'TABLE READ'\n",
    "airtable = Airtable(BASE_KEY, TABLE_A)\n",
    "print(airtable)\n",
    "%load_ext autoreload\n",
    "%autoreload"
   ]
  },
  {
   "cell_type": "markdown",
   "metadata": {},
   "source": [
    "### Get"
   ]
  },
  {
   "cell_type": "code",
   "execution_count": 3,
   "metadata": {},
   "outputs": [
    {
     "name": "stdout",
     "output_type": "stream",
     "text": [
      "[{'createdTime': '2017-08-05T23:13:06.000Z',\n",
      "  'fields': {'COLUMN_ID': '211'},\n",
      "  'id': 'rec0HLFTLAXuJ6suq'},\n",
      " {'createdTime': '2017-08-05T23:13:11.000Z',\n",
      "  'fields': {'COLUMN_ID': '252'},\n",
      "  'id': 'rec0UUQM7OUfLFTVL'}]\n"
     ]
    }
   ],
   "source": [
    "%autoreload\n",
    "records = airtable.get_iter(maxRecords=2)\n",
    "for record in records:\n",
    "    pprint(record)"
   ]
  },
  {
   "cell_type": "code",
   "execution_count": 4,
   "metadata": {},
   "outputs": [
    {
     "name": "stdout",
     "output_type": "stream",
     "text": [
      "[{'createdTime': '2017-08-05T23:12:32.000Z',\n",
      "  'fields': {'COLUMN_ID': '5'},\n",
      "  'id': 'rec6YVuYv27rlzARi'}]\n"
     ]
    }
   ],
   "source": [
    "record = airtable.search('COLUMN_ID', '5')\n",
    "pprint(record)"
   ]
  },
  {
   "cell_type": "code",
   "execution_count": 5,
   "metadata": {},
   "outputs": [
    {
     "name": "stdout",
     "output_type": "stream",
     "text": [
      "3\n"
     ]
    }
   ],
   "source": [
    "#MaxRecords\n",
    "airtable = Airtable(BASE_KEY, TABLE_A)\n",
    "records = airtable.get_all(maxRecords=3)\n",
    "print(len(records))"
   ]
  },
  {
   "cell_type": "code",
   "execution_count": 6,
   "metadata": {},
   "outputs": [
    {
     "data": {
      "text/plain": [
       "[{'createdTime': '2017-08-05T23:12:32.000Z',\n",
       "  'fields': {'COLUMN_ID': '6'},\n",
       "  'id': 'recCKTZCY279EpzRu'}]"
      ]
     },
     "execution_count": 6,
     "metadata": {},
     "output_type": "execute_result"
    }
   ],
   "source": [
    "#FilterByFormula\n",
    "records = airtable.get_all(filterByFormula=\"NOT(COLUMN_ID='5')\")\n",
    "[r for r in records if r['fields']['COLUMN_ID'] == '5']\n",
    "[r for r in records if r['fields']['COLUMN_ID'] == '6']"
   ]
  },
  {
   "cell_type": "code",
   "execution_count": 7,
   "metadata": {},
   "outputs": [
    {
     "name": "stdout",
     "output_type": "stream",
     "text": [
      "[{'createdTime': '2017-08-05T23:13:06.000Z', 'id': 'rec0HLFTLAXuJ6suq', 'fields': {}}, {'createdTime': '2017-08-05T23:13:11.000Z', 'id': 'rec0UUQM7OUfLFTVL', 'fields': {}}]\n"
     ]
    }
   ],
   "source": [
    "%autoreload\n",
    "#Fields\n",
    "records = airtable.get_all(fields=['COLUMN_UPDATE', 'COLUMN_STR'], maxRecords=2)\n",
    "print(records)"
   ]
  },
  {
   "cell_type": "code",
   "execution_count": 8,
   "metadata": {},
   "outputs": [
    {
     "name": "stdout",
     "output_type": "stream",
     "text": [
      "[{'id': 'reccuCLnavaYaPUba', 'fields': {'COLUMN_ID': '300'}, 'createdTime': '2017-08-05T23:16:51.000Z'}, {'id': 'recY8aca5PAkWjWzA', 'fields': {'COLUMN_ID': '299'}, 'createdTime': '2017-08-05T23:13:20.000Z'}, {'id': 'recK56FOjid5w72n8', 'fields': {'COLUMN_ID': '298'}, 'createdTime': '2017-08-05T23:13:20.000Z'}, {'id': 'rec9kfYgFLtt1Ncjv', 'fields': {'COLUMN_ID': '297'}, 'createdTime': '2017-08-05T23:13:20.000Z'}, {'id': 'recH4y5sbMNoPmDul', 'fields': {'COLUMN_ID': '296'}, 'createdTime': '2017-08-05T23:13:20.000Z'}]\n"
     ]
    }
   ],
   "source": [
    "%autoreload\n",
    "#Fields\n",
    "records = airtable.get_all(maxRecords=5, sort=[(\"COLUMN_ID\", 'desc')])\n",
    "print(records)"
   ]
  },
  {
   "cell_type": "code",
   "execution_count": null,
   "metadata": {},
   "outputs": [],
   "source": [
    "%autoreload\n",
    "from airtable.params import AirtableParams\n",
    "# AirtableParams.get('sort')\n",
    "# airtable.get_all(sort=[{'field':'COLUMN_ID', 'direction': 'desc'}], maxRecords=5)\n",
    "airtable.get_all(sort=['COLUMN_ID'], maxRecords=5)\n",
    "\n"
   ]
  },
  {
   "cell_type": "code",
   "execution_count": 12,
   "metadata": {},
   "outputs": [
    {
     "name": "stdout",
     "output_type": "stream",
     "text": [
      "{'createdTime': '2017-08-05T23:12:32.000Z', 'id': 'reczgig7DLuqvhPE3', 'fields': {'COLUMN_UPDATE': 'A'}}\n"
     ]
    }
   ],
   "source": [
    "%autoreload\n",
    "#Fields\n",
    "records = airtable.replace_by_field(\"COLUMN_ID\", '4', {'COLUMN_UPDATE':'A'})\n",
    "print(records)"
   ]
  },
  {
   "cell_type": "code",
   "execution_count": 3,
   "metadata": {},
   "outputs": [
    {
     "data": {
      "text/plain": [
       "{'createdTime': '2017-03-14T22:04:31.000Z',\n",
       " 'fields': {'COLUMN_ID': '1', 'COLUMN_STR': 'UNIQUE', 'COLUMN_UPDATE': 'A'},\n",
       " 'id': 'recwPQIfs4wKPyc9D'}"
      ]
     },
     "execution_count": 3,
     "metadata": {},
     "output_type": "execute_result"
    }
   ],
   "source": [
    "%autoreload\n",
    "airtable.get('recwPQIfs4wKPyc9D')"
   ]
  }
 ],
 "metadata": {
  "kernelspec": {
   "display_name": "Python 3",
   "language": "python",
   "name": "python3"
  },
  "language_info": {
   "codemirror_mode": {
    "name": "ipython",
    "version": 3
   },
   "file_extension": ".py",
   "mimetype": "text/x-python",
   "name": "python",
   "nbconvert_exporter": "python",
   "pygments_lexer": "ipython3",
   "version": "3.5.3"
  }
 },
 "nbformat": 4,
 "nbformat_minor": 2
}
