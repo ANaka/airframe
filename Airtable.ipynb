{
 "cells": [
  {
   "cell_type": "code",
   "execution_count": 9,
   "metadata": {},
   "outputs": [
    {
     "name": "stdout",
     "output_type": "stream",
     "text": [
      "<airtable.airtable.Airtable object at 0x06AFCC90>\n",
      "The autoreload extension is already loaded. To reload it, use:\n",
      "  %reload_ext autoreload\n"
     ]
    }
   ],
   "source": [
    "from pprint import pprint\n",
    "from airtable import Airtable\n",
    "BASE_KEY = 'appJMY16gZDQrMWpA'\n",
    "TABLE_A = 'TABLE READ'\n",
    "airtable = Airtable(BASE_KEY, TABLE_A)\n",
    "print(airtable)\n",
    "%load_ext autoreload"
   ]
  },
  {
   "cell_type": "code",
   "execution_count": 10,
   "metadata": {},
   "outputs": [
    {
     "name": "stdout",
     "output_type": "stream",
     "text": [
      "[{'createdTime': '2017-08-05T23:13:06.000Z',\n",
      "  'fields': {'COLUMN_ID': '211'},\n",
      "  'id': 'rec0HLFTLAXuJ6suq'},\n",
      " {'createdTime': '2017-08-05T23:13:11.000Z',\n",
      "  'fields': {'COLUMN_ID': '252'},\n",
      "  'id': 'rec0UUQM7OUfLFTVL'},\n",
      " {'createdTime': '2017-08-05T23:13:14.000Z',\n",
      "  'fields': {'COLUMN_ID': '271'},\n",
      "  'id': 'rec0WqBhGVoH1dS0d'},\n",
      " {'createdTime': '2017-08-05T23:13:11.000Z',\n",
      "  'fields': {'COLUMN_ID': '249'},\n",
      "  'id': 'rec0oHxefA2qirl5g'},\n",
      " {'createdTime': '2017-08-05T23:12:57.000Z',\n",
      "  'fields': {'COLUMN_ID': '153'},\n",
      "  'id': 'rec0wki4xSK4DCuEv'}]\n"
     ]
    }
   ],
   "source": [
    "records = airtable.get(maxRecords=5)\n",
    "for record in records:\n",
    "    pprint(record)"
   ]
  },
  {
   "cell_type": "code",
   "execution_count": 11,
   "metadata": {},
   "outputs": [
    {
     "name": "stdout",
     "output_type": "stream",
     "text": [
      "[{'createdTime': '2017-08-05T23:12:32.000Z',\n",
      "  'fields': {'COLUMN_ID': '5'},\n",
      "  'id': 'rec6YVuYv27rlzARi'}]\n"
     ]
    }
   ],
   "source": [
    "airtable = Airtable(BASE_KEY, TABLE_A)\n",
    "record = airtable.search('COLUMN_ID', '5')\n",
    "pprint(record)"
   ]
  },
  {
   "cell_type": "code",
   "execution_count": 25,
   "metadata": {},
   "outputs": [
    {
     "data": {
      "text/plain": [
       "3"
      ]
     },
     "execution_count": 25,
     "metadata": {},
     "output_type": "execute_result"
    }
   ],
   "source": [
    "#MaxRecords\n",
    "%autoreload\n",
    "airtable = Airtable(BASE_KEY, TABLE_A)\n",
    "records = airtable.get_all(maxRecords=3)\n",
    "len(records)"
   ]
  },
  {
   "cell_type": "code",
   "execution_count": 26,
   "metadata": {},
   "outputs": [
    {
     "data": {
      "text/plain": [
       "[{'createdTime': '2017-08-05T23:12:32.000Z',\n",
       "  'fields': {'COLUMN_ID': '6'},\n",
       "  'id': 'recCKTZCY279EpzRu'}]"
      ]
     },
     "execution_count": 26,
     "metadata": {},
     "output_type": "execute_result"
    }
   ],
   "source": [
    "#FilterByFormula\n",
    "%autoreload\n",
    "airtable = Airtable(BASE_KEY, TABLE_A)\n",
    "records = airtable.get_all(filterByFormula=\"NOT(COLUMN_ID='5')\")\n",
    "[r for r in records if r['fields']['COLUMN_ID'] == '5']\n",
    "[r for r in records if r['fields']['COLUMN_ID'] == '6']"
   ]
  },
  {
   "cell_type": "code",
   "execution_count": null,
   "metadata": {},
   "outputs": [],
   "source": []
  }
 ],
 "metadata": {
  "kernelspec": {
   "display_name": "Python 3",
   "language": "python",
   "name": "python3"
  },
  "language_info": {
   "codemirror_mode": {
    "name": "ipython",
    "version": 3
   },
   "file_extension": ".py",
   "mimetype": "text/x-python",
   "name": "python",
   "nbconvert_exporter": "python",
   "pygments_lexer": "ipython3",
   "version": "3.5.3"
  }
 },
 "nbformat": 4,
 "nbformat_minor": 2
}
